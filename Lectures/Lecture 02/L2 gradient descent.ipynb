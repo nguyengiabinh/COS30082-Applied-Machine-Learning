{
 "cells": [
  {
   "cell_type": "code",
   "execution_count": 1,
   "id": "0dbe8ddc",
   "metadata": {},
   "outputs": [
    {
     "name": "stdout",
     "output_type": "stream",
     "text": [
      "[-3.  -2.9 -2.8 -2.7 -2.6] .... [4.6 4.7 4.8 4.9 5. ]\n"
     ]
    }
   ],
   "source": [
    "import numpy as np\n",
    "import matplotlib.pyplot as plt\n",
    "x_poly = np.linspace(-3,5,81)\n",
    "\"\"\"\n",
    "np.linspace(start, stop, num):\n",
    "start: The starting value of the sequence. In this case, -3.\n",
    "stop: The end value of the sequence. Here, it's 5.\n",
    "num: The number of samples to generate. Here, 81 values are requested.\n",
    "\"\"\"\n",
    "print(x_poly[:5],'....',x_poly[-5:])"
   ]
  },
  {
   "cell_type": "code",
   "execution_count": 2,
   "id": "49389a40",
   "metadata": {},
   "outputs": [
    {
     "data": {
      "application/vnd.jupyter.widget-view+json": {
       "model_id": "319b56507a57431ab2fbc97ec1a248d6",
       "version_major": 2,
       "version_minor": 0
      },
      "text/plain": [
       "interactive(children=(FloatSlider(value=1.0, description='x_start', max=5.0, min=-3.0), IntSlider(value=10, de…"
      ]
     },
     "execution_count": 2,
     "metadata": {},
     "output_type": "execute_result"
    }
   ],
   "source": [
    "\n",
    "def cost_function(X):\n",
    "    return 2*X**2-4*X\n",
    "def gradient(X):\n",
    "    return  (4*X) -4\n",
    "y_poly = cost_function(x_poly)\n",
    "\n",
    "from ipywidgets import interactive\n",
    "def f(x_start,iterations,learning_rate):\n",
    "    #iterations = 15\n",
    "    x_path = np.empty(iterations,)\n",
    "    x_path[0] =  x_start\n",
    "    for i in range (1,iterations):\n",
    "        derivative =gradient(x_path[i-1])\n",
    "        x_path[i] = x_path[i-1]-(derivative*learning_rate)\n",
    "    x_path\n",
    "    plt.plot(x_poly,y_poly)\n",
    "    plt.plot(x_path,cost_function(x_path),'-o')\n",
    "interactive_plot = interactive(f,x_start=(-3.0, 5.0),iterations = (1,20),learning_rate= (0.01,1,.1))\n",
    "interactive_plot"
   ]
  }
 ],
 "metadata": {
  "kernelspec": {
   "display_name": "Python 3 (ipykernel)",
   "language": "python",
   "name": "python3"
  },
  "language_info": {
   "codemirror_mode": {
    "name": "ipython",
    "version": 3
   },
   "file_extension": ".py",
   "mimetype": "text/x-python",
   "name": "python",
   "nbconvert_exporter": "python",
   "pygments_lexer": "ipython3",
   "version": "3.11.5"
  }
 },
 "nbformat": 4,
 "nbformat_minor": 5
}
